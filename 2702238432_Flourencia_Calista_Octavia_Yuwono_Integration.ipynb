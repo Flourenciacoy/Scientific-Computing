{
  "nbformat": 4,
  "nbformat_minor": 0,
  "metadata": {
    "colab": {
      "provenance": [],
      "authorship_tag": "ABX9TyN7do6T3vcH78b2/LQ2GgOp",
      "include_colab_link": true
    },
    "kernelspec": {
      "name": "python3",
      "display_name": "Python 3"
    },
    "language_info": {
      "name": "python"
    }
  },
  "cells": [
    {
      "cell_type": "markdown",
      "metadata": {
        "id": "view-in-github",
        "colab_type": "text"
      },
      "source": [
        "<a href=\"https://colab.research.google.com/github/Flourenciacoy/Scientific-Computing/blob/main/2702238432_Flourencia_Calista_Octavia_Yuwono_Integration.ipynb\" target=\"_parent\"><img src=\"https://colab.research.google.com/assets/colab-badge.svg\" alt=\"Open In Colab\"/></a>"
      ]
    },
    {
      "cell_type": "code",
      "execution_count": 1,
      "metadata": {
        "colab": {
          "base_uri": "https://localhost:8080/"
        },
        "id": "eYmMaXljyAR4",
        "outputId": "72edff46-bd7d-44bf-ebd5-4bf9a9a11fc5"
      },
      "outputs": [
        {
          "output_type": "stream",
          "name": "stdout",
          "text": [
            "1.9835235375094546\n",
            "0.01647646249054535\n",
            "1.9835235375094546\n",
            "0.01647646249054535\n",
            "2.0082484079079745\n",
            "-0.008248407907974542\n"
          ]
        }
      ],
      "source": [
        "import numpy as np\n",
        "\n",
        "a=0\n",
        "b=np.pi\n",
        "n=11\n",
        "h=(b-a)/(n-1)\n",
        "x=np.linspace(a, b, n)\n",
        "f=np.sin(x)\n",
        "\n",
        "I_riemannL=h*sum(f[:n-1])\n",
        "err_riemannL=2-I_riemannL\n",
        "\n",
        "I_riemannR=h*sum(f[1::1])\n",
        "err_riemannR=2-I_riemannR\n",
        "\n",
        "I_mid=h*sum(np.sin((x[:n-1]\\\n",
        "                    +x[1:])/2))\n",
        "err_mid=2-I_mid\n",
        "\n",
        "print(I_riemannL)\n",
        "print(err_riemannL)\n",
        "\n",
        "print(I_riemannR)\n",
        "print(err_riemannR)\n",
        "\n",
        "print(I_mid)\n",
        "print(err_mid)"
      ]
    },
    {
      "cell_type": "markdown",
      "source": [
        "Trapezoid Rule"
      ],
      "metadata": {
        "id": "g_mUK0GJ0zs6"
      }
    },
    {
      "cell_type": "code",
      "source": [
        "import numpy as np\n",
        "\n",
        "a=0\n",
        "b=np.pi\n",
        "n=11\n",
        "h=(b-a)/(n-1)\n",
        "x=np.linspace(a, b, n)\n",
        "f=np.sin(x)\n",
        "\n",
        "I_trap=(h/2)*(f[0]+\\\n",
        "              2*sum(f[1:n-1])+f[n-1])\n",
        "err_trap=2-I_trap\n",
        "\n",
        "print(I_trap)\n",
        "print(err_trap)"
      ],
      "metadata": {
        "colab": {
          "base_uri": "https://localhost:8080/"
        },
        "id": "P1C43IXU0j-9",
        "outputId": "047a9bb9-fd16-427c-861b-0eaa3031cb33"
      },
      "execution_count": 2,
      "outputs": [
        {
          "output_type": "stream",
          "name": "stdout",
          "text": [
            "1.9835235375094546\n",
            "0.01647646249054535\n"
          ]
        }
      ]
    },
    {
      "cell_type": "code",
      "source": [
        "import numpy as np\n",
        "from scipy.integrate import trapz\n",
        "\n",
        "a=0\n",
        "b=np.pi\n",
        "n=11\n",
        "h=(b-a)/(n-1)\n",
        "x=np.linspace(a, b, n)\n",
        "f=np.sin(x)\n",
        "\n",
        "I_trapz=trapz(f, x)\n",
        "I_trap=(h/2)*(f[0]+2*sum(f[1:n-1])+f[n-1])\n",
        "\n",
        "print(I_trapz)\n",
        "print(I_trap)"
      ],
      "metadata": {
        "colab": {
          "base_uri": "https://localhost:8080/"
        },
        "id": "WXTHvcia1Ucu",
        "outputId": "54bd83c8-332a-402a-f5bb-1a0b61663452"
      },
      "execution_count": 6,
      "outputs": [
        {
          "output_type": "stream",
          "name": "stdout",
          "text": [
            "1.9835235375094544\n",
            "1.9835235375094546\n"
          ]
        }
      ]
    },
    {
      "cell_type": "markdown",
      "source": [
        "Simpson's Rule"
      ],
      "metadata": {
        "id": "uWvye1G52YM0"
      }
    },
    {
      "cell_type": "code",
      "source": [
        "from scipy.integrate import quad\n",
        "\n",
        "I_quad, est_err_quad=\\\n",
        "          quad(np.sin, 0, np.pi)\n",
        "print(I_quad)\n",
        "err_quad=2-I_quad\n",
        "print(est_err_quad, err_quad)"
      ],
      "metadata": {
        "colab": {
          "base_uri": "https://localhost:8080/"
        },
        "id": "8P7YuBMu2dH8",
        "outputId": "7771f60e-85d1-4dae-fcdf-16ccfff2514a"
      },
      "execution_count": 10,
      "outputs": [
        {
          "output_type": "stream",
          "name": "stdout",
          "text": [
            "2.0\n",
            "2.220446049250313e-14 0.0\n"
          ]
        }
      ]
    },
    {
      "cell_type": "markdown",
      "source": [
        "kuis 1"
      ],
      "metadata": {
        "id": "FpCYU5CcBAmw"
      }
    },
    {
      "cell_type": "code",
      "source": [
        "import numpy as np\n",
        "\n",
        "a=0\n",
        "b=np.pi\n",
        "n=9\n",
        "h=(b-a)/(n-1)\n",
        "x=np.linspace(a, b, n)\n",
        "f=np.sin(x)\n",
        "\n",
        "I_trap=(h/2)*(f[0]+\\\n",
        "              2*sum(f[1:n-1])+f[n-1])\n",
        "err_trap=2-I_trap\n",
        "\n",
        "print(I_trap)\n",
        "print(err_trap)"
      ],
      "metadata": {
        "colab": {
          "base_uri": "https://localhost:8080/"
        },
        "id": "h-Ms_MOCBFKT",
        "outputId": "8274b6e8-4eb6-45c3-9ef8-6672fa1fa1ed"
      },
      "execution_count": 11,
      "outputs": [
        {
          "output_type": "stream",
          "name": "stdout",
          "text": [
            "1.9742316019455508\n",
            "0.025768398054449193\n"
          ]
        }
      ]
    },
    {
      "cell_type": "code",
      "source": [
        "import numpy as np\n",
        "\n",
        "a=0\n",
        "b=np.pi\n",
        "n=17\n",
        "h=(b-a)/(n-1)\n",
        "x=np.linspace(a, b, n)\n",
        "f=np.sin(x)\n",
        "\n",
        "I_trap=(h/2)*(f[0]+\\\n",
        "              2*sum(f[1:n-1])+f[n-1])\n",
        "err_trap=2-I_trap\n",
        "\n",
        "print(I_trap)\n",
        "print(err_trap)"
      ],
      "metadata": {
        "colab": {
          "base_uri": "https://localhost:8080/"
        },
        "id": "UtKXi5RLBjS_",
        "outputId": "cc50636b-e28b-4bbe-87a8-893be85f1bcd"
      },
      "execution_count": 12,
      "outputs": [
        {
          "output_type": "stream",
          "name": "stdout",
          "text": [
            "1.9935703437723395\n",
            "0.006429656227660452\n"
          ]
        }
      ]
    }
  ]
}